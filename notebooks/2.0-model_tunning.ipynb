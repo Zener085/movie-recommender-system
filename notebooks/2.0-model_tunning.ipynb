{
 "cells": [
  {
   "cell_type": "markdown",
   "source": [
    "I decided to use the KNN model for this data. One of the benefits of this model is that we don't need to train the model.\n",
    "You may the implementation [here](../models/model.py).\n",
    "Now let's check if it works."
   ],
   "metadata": {
    "collapsed": false
   },
   "id": "dfa758477e341fae"
  },
  {
   "cell_type": "code",
   "execution_count": 12,
   "id": "initial_id",
   "metadata": {
    "collapsed": true,
    "ExecuteTime": {
     "end_time": "2023-12-03T14:45:49.904121200Z",
     "start_time": "2023-12-03T14:45:49.841290600Z"
    }
   },
   "outputs": [],
   "source": [
    "import numpy as np\n",
    "import pandas as pd\n",
    "from bayes_opt import BayesianOptimization\n",
    "from models.model import Recommender"
   ]
  },
  {
   "cell_type": "code",
   "execution_count": 13,
   "outputs": [],
   "source": [
    "df = pd.read_csv(\"../data/interim/ratings.csv\")"
   ],
   "metadata": {
    "collapsed": false,
    "ExecuteTime": {
     "end_time": "2023-12-03T14:45:50.305761800Z",
     "start_time": "2023-12-03T14:45:49.846278100Z"
    }
   },
   "id": "962bd8da0b1c3db0"
  },
  {
   "cell_type": "code",
   "execution_count": 14,
   "outputs": [],
   "source": [
    "recommender = Recommender(5, df)"
   ],
   "metadata": {
    "collapsed": false,
    "ExecuteTime": {
     "end_time": "2023-12-03T14:46:20.270746400Z",
     "start_time": "2023-12-03T14:45:50.302769600Z"
    }
   },
   "id": "b3665dbf6f741b2a"
  },
  {
   "cell_type": "code",
   "execution_count": 15,
   "outputs": [
    {
     "data": {
      "text/plain": "[('Somewhere in Time (1980)',\n  'http://us.imdb.com/M/title-exact?Somewhere%20in%20Time%20(1980)'),\n ('Crash (1996)', 'http://us.imdb.com/M/title-exact?Crash%20(1996)'),\n ('Room with a View, A (1986)',\n  'http://us.imdb.com/M/title-exact?Room%20with%20a%20View,%20A%20(1986)'),\n ('Deceiver (1997)', 'http://us.imdb.com/M/title-exact?Liar+(1997)'),\n ('Alien 3 (1992)', 'http://us.imdb.com/M/title-exact?Alien%203%20(1992)')]"
     },
     "execution_count": 15,
     "metadata": {},
     "output_type": "execute_result"
    }
   ],
   "source": [
    "test_user = [20, \"F\", \"writer\", [(\"Back to the Future (1985)\", 5)]]\n",
    "recommender.suggest(*test_user)"
   ],
   "metadata": {
    "collapsed": false,
    "ExecuteTime": {
     "end_time": "2023-12-03T14:46:21.182239Z",
     "start_time": "2023-12-03T14:46:20.293684100Z"
    }
   },
   "id": "ecab6c659c415dd9"
  },
  {
   "cell_type": "markdown",
   "source": [
    "As we can see, it works.\n",
    "Now let's fine tune the model to get the best results.\n",
    "To measure models with different parameters, I use accuracy metric as it's used in the benchmark."
   ],
   "metadata": {
    "collapsed": false
   },
   "id": "d50286da95d95bf9"
  },
  {
   "cell_type": "code",
   "execution_count": 16,
   "outputs": [
    {
     "name": "stdout",
     "output_type": "stream",
     "text": [
      "Postino, Il (1994) ('Psycho (1960)', 'Miracle on 34th Street (1994)', 'Body Snatchers (1993)', 'Maltese Falcon, The (1941)', 'Sling Blade (1996)')\n"
     ]
    }
   ],
   "source": [
    "user_id = 150\n",
    "user = df[df[\"UserId\"] == user_id][[\"Age\", \"Gender\", \"Occupation\"]].iloc[0].tolist()\n",
    "user.append([])\n",
    "for title, rating in df[df[\"UserId\"] == user_id][[\"Title\", \"Rating\"]].values:\n",
    "    if rating > 3:\n",
    "        user[-1].append((str(title), int(rating)))\n",
    "test_movie = user[-1].pop()[0]\n",
    "movies, _ = zip(*recommender.suggest(*user))\n",
    "print(test_movie, movies)"
   ],
   "metadata": {
    "collapsed": false,
    "ExecuteTime": {
     "end_time": "2023-12-03T14:46:22.217470500Z",
     "start_time": "2023-12-03T14:46:21.194208500Z"
    }
   },
   "id": "6d1b388dff5e187"
  },
  {
   "cell_type": "code",
   "execution_count": 38,
   "outputs": [],
   "source": [
    "def around(x: float):\n",
    "    return int(np.around(x))\n",
    "\n",
    "def objective_function(k: int, leaf_size: int):\n",
    "    global df\n",
    "    _recommender = Recommender(around(k), df, leaf_size=around(leaf_size))\n",
    "    _total = []\n",
    "    while len(_total) < 100:\n",
    "        _user_id = np.random.choice(df[\"UserId\"].unique())\n",
    "        _test_user = df[df[\"UserId\"] == _user_id][[\"Age\", \"Gender\", \"Occupation\"]].iloc[0].tolist()\n",
    "        _test_user.append([])\n",
    "        for _title, _rating in df[df[\"UserId\"] == _user_id][[\"Title\", \"Rating\"]].values:\n",
    "            if _rating > 3:\n",
    "                _test_user[-1].append((str(_title), int(_rating)))\n",
    "\n",
    "        if not len(_test_user[-1]):\n",
    "            continue\n",
    "        _test_movie = _test_user[-1].pop()[0]\n",
    "\n",
    "        _movies = list(map(lambda x: x[0], recommender.suggest(*_test_user)))\n",
    "        _total.append(_test_movie in _movies)\n",
    "\n",
    "    return sum(_total) / len(_total)"
   ],
   "metadata": {
    "collapsed": false,
    "ExecuteTime": {
     "end_time": "2023-12-03T15:31:35.864075700Z",
     "start_time": "2023-12-03T15:31:35.846119900Z"
    }
   },
   "id": "3226317030c02589"
  },
  {
   "cell_type": "code",
   "execution_count": 39,
   "outputs": [],
   "source": [
    "parameter_bounds = {\"k\": (5, 20), \"leaf_size\": (10, 100)}\n",
    "bayesian_optimizer = BayesianOptimization(objective_function, parameter_bounds, random_state=42)"
   ],
   "metadata": {
    "collapsed": false,
    "ExecuteTime": {
     "end_time": "2023-12-03T15:31:36.425911100Z",
     "start_time": "2023-12-03T15:31:36.327663500Z"
    }
   },
   "id": "ca56a9e84854eb71"
  },
  {
   "cell_type": "code",
   "execution_count": 40,
   "outputs": [
    {
     "name": "stdout",
     "output_type": "stream",
     "text": [
      "|   iter    |  target   |     k     | leaf_size |\n",
      "-------------------------------------------------\n",
      "| \u001B[0m1        \u001B[0m | \u001B[0m0.0      \u001B[0m | \u001B[0m10.62    \u001B[0m | \u001B[0m95.56    \u001B[0m |\n",
      "| \u001B[95m2        \u001B[0m | \u001B[95m0.01     \u001B[0m | \u001B[95m15.98    \u001B[0m | \u001B[95m63.88    \u001B[0m |\n",
      "| \u001B[0m3        \u001B[0m | \u001B[0m0.0      \u001B[0m | \u001B[0m7.34     \u001B[0m | \u001B[0m24.04    \u001B[0m |\n",
      "| \u001B[0m4        \u001B[0m | \u001B[0m0.0      \u001B[0m | \u001B[0m5.871    \u001B[0m | \u001B[0m87.96    \u001B[0m |\n",
      "| \u001B[0m5        \u001B[0m | \u001B[0m0.0      \u001B[0m | \u001B[0m14.02    \u001B[0m | \u001B[0m73.73    \u001B[0m |\n",
      "| \u001B[0m6        \u001B[0m | \u001B[0m0.0      \u001B[0m | \u001B[0m16.83    \u001B[0m | \u001B[0m63.89    \u001B[0m |\n",
      "| \u001B[0m7        \u001B[0m | \u001B[0m0.0      \u001B[0m | \u001B[0m17.43    \u001B[0m | \u001B[0m37.02    \u001B[0m |\n",
      "| \u001B[0m8        \u001B[0m | \u001B[0m0.0      \u001B[0m | \u001B[0m6.52     \u001B[0m | \u001B[0m56.95    \u001B[0m |\n",
      "| \u001B[0m9        \u001B[0m | \u001B[0m0.0      \u001B[0m | \u001B[0m5.085    \u001B[0m | \u001B[0m51.74    \u001B[0m |\n",
      "| \u001B[0m10       \u001B[0m | \u001B[0m0.0      \u001B[0m | \u001B[0m15.01    \u001B[0m | \u001B[0m67.8     \u001B[0m |\n",
      "| \u001B[0m11       \u001B[0m | \u001B[0m0.01     \u001B[0m | \u001B[0m5.487    \u001B[0m | \u001B[0m29.37    \u001B[0m |\n",
      "| \u001B[0m12       \u001B[0m | \u001B[0m0.0      \u001B[0m | \u001B[0m11.63    \u001B[0m | \u001B[0m84.19    \u001B[0m |\n",
      "| \u001B[0m13       \u001B[0m | \u001B[0m0.0      \u001B[0m | \u001B[0m5.279    \u001B[0m | \u001B[0m49.45    \u001B[0m |\n",
      "| \u001B[0m14       \u001B[0m | \u001B[0m0.01     \u001B[0m | \u001B[0m10.93    \u001B[0m | \u001B[0m53.86    \u001B[0m |\n",
      "| \u001B[95m15       \u001B[0m | \u001B[95m0.02     \u001B[0m | \u001B[95m15.89    \u001B[0m | \u001B[95m63.94    \u001B[0m |\n",
      "=================================================\n"
     ]
    }
   ],
   "source": [
    "ayesian_optimizer.maximize(init_points=5, n_iter=10)"
   ],
   "metadata": {
    "collapsed": false,
    "ExecuteTime": {
     "end_time": "2023-12-03T16:01:52.306040900Z",
     "start_time": "2023-12-03T15:31:36.633768200Z"
    }
   },
   "id": "ff385d05c75b06c9"
  },
  {
   "cell_type": "markdown",
   "source": [
    "So the best parameters are `k=16` and `leaf_size=64`"
   ],
   "metadata": {
    "collapsed": false
   },
   "id": "6fbb044c6f0608b1"
  }
 ],
 "metadata": {
  "kernelspec": {
   "display_name": "Python 3",
   "language": "python",
   "name": "python3"
  },
  "language_info": {
   "codemirror_mode": {
    "name": "ipython",
    "version": 2
   },
   "file_extension": ".py",
   "mimetype": "text/x-python",
   "name": "python",
   "nbconvert_exporter": "python",
   "pygments_lexer": "ipython2",
   "version": "2.7.6"
  }
 },
 "nbformat": 4,
 "nbformat_minor": 5
}
