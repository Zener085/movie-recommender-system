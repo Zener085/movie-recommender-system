{
 "cells": [
  {
   "cell_type": "markdown",
   "source": [
    "Firstly, import everything needed."
   ],
   "metadata": {
    "collapsed": false
   },
   "id": "373235a5ceb02c33"
  },
  {
   "cell_type": "code",
   "execution_count": 1,
   "id": "initial_id",
   "metadata": {
    "collapsed": true,
    "ExecuteTime": {
     "end_time": "2023-12-03T13:38:18.678049400Z",
     "start_time": "2023-12-03T13:38:15.284225900Z"
    }
   },
   "outputs": [],
   "source": [
    "import pandas as pd\n",
    "\n",
    "from typing import List"
   ]
  },
  {
   "cell_type": "markdown",
   "source": [
    "Here I created a function to fast take the data from the files."
   ],
   "metadata": {
    "collapsed": false
   },
   "id": "3fe60d1b3af27b0"
  },
  {
   "cell_type": "code",
   "execution_count": 2,
   "outputs": [],
   "source": [
    "def read_data(__file_name: str, __col_names: List[str], path: str = \"../data/raw/ml-100k\", **kwargs):\n",
    "    \"\"\"\n",
    "    Reads the data from the given file.\n",
    "    Optimized for using for the main data (ml-100k).\n",
    "\n",
    "    Parameters:\n",
    "        __file_name: Name of the file with data.\n",
    "        __col_names: Names of the columns in the dataset.\n",
    "        path: Path of the file.\n",
    "    \n",
    "    Returns:\n",
    "        pd.DataFrame.\n",
    "    \"\"\"\n",
    "    return pd.read_csv(f\"{path}/{__file_name}\", names=__col_names, **kwargs)"
   ],
   "metadata": {
    "collapsed": false,
    "ExecuteTime": {
     "end_time": "2023-12-03T13:38:18.680043300Z",
     "start_time": "2023-12-03T13:38:16.339010400Z"
    }
   },
   "id": "44b53c1805b5b0f5"
  },
  {
   "cell_type": "markdown",
   "source": [
    "Main dataset—users and their ratings to some movie."
   ],
   "metadata": {
    "collapsed": false
   },
   "id": "b50da357cc576abc"
  },
  {
   "cell_type": "code",
   "execution_count": 3,
   "outputs": [
    {
     "data": {
      "text/plain": "   UserId  ItemId  Rating  Timestamp\n0     196     242       3  881250949\n1     186     302       3  891717742\n2      22     377       1  878887116\n3     244      51       2  880606923\n4     166     346       1  886397596",
      "text/html": "<div>\n<style scoped>\n    .dataframe tbody tr th:only-of-type {\n        vertical-align: middle;\n    }\n\n    .dataframe tbody tr th {\n        vertical-align: top;\n    }\n\n    .dataframe thead th {\n        text-align: right;\n    }\n</style>\n<table border=\"1\" class=\"dataframe\">\n  <thead>\n    <tr style=\"text-align: right;\">\n      <th></th>\n      <th>UserId</th>\n      <th>ItemId</th>\n      <th>Rating</th>\n      <th>Timestamp</th>\n    </tr>\n  </thead>\n  <tbody>\n    <tr>\n      <th>0</th>\n      <td>196</td>\n      <td>242</td>\n      <td>3</td>\n      <td>881250949</td>\n    </tr>\n    <tr>\n      <th>1</th>\n      <td>186</td>\n      <td>302</td>\n      <td>3</td>\n      <td>891717742</td>\n    </tr>\n    <tr>\n      <th>2</th>\n      <td>22</td>\n      <td>377</td>\n      <td>1</td>\n      <td>878887116</td>\n    </tr>\n    <tr>\n      <th>3</th>\n      <td>244</td>\n      <td>51</td>\n      <td>2</td>\n      <td>880606923</td>\n    </tr>\n    <tr>\n      <th>4</th>\n      <td>166</td>\n      <td>346</td>\n      <td>1</td>\n      <td>886397596</td>\n    </tr>\n  </tbody>\n</table>\n</div>"
     },
     "execution_count": 3,
     "metadata": {},
     "output_type": "execute_result"
    }
   ],
   "source": [
    "main_dataset = read_data(\"u.data\", [\"UserId\", \"ItemId\", \"Rating\", \"Timestamp\"], sep=\"\\t\")\n",
    "main_dataset.head()"
   ],
   "metadata": {
    "collapsed": false,
    "ExecuteTime": {
     "end_time": "2023-12-03T13:38:18.685031400Z",
     "start_time": "2023-12-03T13:38:16.344703300Z"
    }
   },
   "id": "6233f8b64f090ef4"
  },
  {
   "cell_type": "markdown",
   "source": [
    "Let's look at this dataset more carefully."
   ],
   "metadata": {
    "collapsed": false
   },
   "id": "297ffa2009471b6d"
  },
  {
   "cell_type": "code",
   "execution_count": 4,
   "outputs": [
    {
     "data": {
      "text/plain": "UserId       0\nItemId       0\nRating       0\nTimestamp    0\ndtype: int64"
     },
     "execution_count": 4,
     "metadata": {},
     "output_type": "execute_result"
    }
   ],
   "source": [
    "main_dataset.isna().sum()"
   ],
   "metadata": {
    "collapsed": false,
    "ExecuteTime": {
     "end_time": "2023-12-03T13:38:18.701985200Z",
     "start_time": "2023-12-03T13:38:16.442441700Z"
    }
   },
   "id": "fac0bace9ee52fd4"
  },
  {
   "cell_type": "code",
   "execution_count": 5,
   "outputs": [
    {
     "data": {
      "text/plain": "100000"
     },
     "execution_count": 5,
     "metadata": {},
     "output_type": "execute_result"
    }
   ],
   "source": [
    "len(main_dataset)"
   ],
   "metadata": {
    "collapsed": false,
    "ExecuteTime": {
     "end_time": "2023-12-03T13:38:18.703980300Z",
     "start_time": "2023-12-03T13:38:16.454571300Z"
    }
   },
   "id": "20805198fa47ba75"
  },
  {
   "cell_type": "code",
   "execution_count": 6,
   "outputs": [
    {
     "data": {
      "text/plain": "UserId         943\nItemId        1682\nRating           5\nTimestamp    49282\ndtype: int64"
     },
     "execution_count": 6,
     "metadata": {},
     "output_type": "execute_result"
    }
   ],
   "source": [
    "main_dataset.nunique()"
   ],
   "metadata": {
    "collapsed": false,
    "ExecuteTime": {
     "end_time": "2023-12-03T13:38:18.704976500Z",
     "start_time": "2023-12-03T13:38:16.470528800Z"
    }
   },
   "id": "357b45d955e6f08a"
  },
  {
   "cell_type": "markdown",
   "source": [
    "They're a lot of unique values in the `Timestamp` column.\n",
    "Let's check one more thing: are the same value related to the same person."
   ],
   "metadata": {
    "collapsed": false
   },
   "id": "fa74914e7961bf5b"
  },
  {
   "cell_type": "code",
   "execution_count": 7,
   "outputs": [
    {
     "data": {
      "text/plain": "       UserId  ItemId  Rating  Timestamp\n214       259     255       4  874724710\n83965     259     286       4  874724727\n43027     259     298       4  874724754\n21396     259     185       4  874724781\n82655     259     173       4  874724843\n...       ...     ...     ...        ...\n46773     729     689       4  893286638\n73008     729     313       3  893286638\n46574     729     328       3  893286638\n64312     729     748       4  893286638\n79208     729     272       4  893286638\n\n[100000 rows x 4 columns]",
      "text/html": "<div>\n<style scoped>\n    .dataframe tbody tr th:only-of-type {\n        vertical-align: middle;\n    }\n\n    .dataframe tbody tr th {\n        vertical-align: top;\n    }\n\n    .dataframe thead th {\n        text-align: right;\n    }\n</style>\n<table border=\"1\" class=\"dataframe\">\n  <thead>\n    <tr style=\"text-align: right;\">\n      <th></th>\n      <th>UserId</th>\n      <th>ItemId</th>\n      <th>Rating</th>\n      <th>Timestamp</th>\n    </tr>\n  </thead>\n  <tbody>\n    <tr>\n      <th>214</th>\n      <td>259</td>\n      <td>255</td>\n      <td>4</td>\n      <td>874724710</td>\n    </tr>\n    <tr>\n      <th>83965</th>\n      <td>259</td>\n      <td>286</td>\n      <td>4</td>\n      <td>874724727</td>\n    </tr>\n    <tr>\n      <th>43027</th>\n      <td>259</td>\n      <td>298</td>\n      <td>4</td>\n      <td>874724754</td>\n    </tr>\n    <tr>\n      <th>21396</th>\n      <td>259</td>\n      <td>185</td>\n      <td>4</td>\n      <td>874724781</td>\n    </tr>\n    <tr>\n      <th>82655</th>\n      <td>259</td>\n      <td>173</td>\n      <td>4</td>\n      <td>874724843</td>\n    </tr>\n    <tr>\n      <th>...</th>\n      <td>...</td>\n      <td>...</td>\n      <td>...</td>\n      <td>...</td>\n    </tr>\n    <tr>\n      <th>46773</th>\n      <td>729</td>\n      <td>689</td>\n      <td>4</td>\n      <td>893286638</td>\n    </tr>\n    <tr>\n      <th>73008</th>\n      <td>729</td>\n      <td>313</td>\n      <td>3</td>\n      <td>893286638</td>\n    </tr>\n    <tr>\n      <th>46574</th>\n      <td>729</td>\n      <td>328</td>\n      <td>3</td>\n      <td>893286638</td>\n    </tr>\n    <tr>\n      <th>64312</th>\n      <td>729</td>\n      <td>748</td>\n      <td>4</td>\n      <td>893286638</td>\n    </tr>\n    <tr>\n      <th>79208</th>\n      <td>729</td>\n      <td>272</td>\n      <td>4</td>\n      <td>893286638</td>\n    </tr>\n  </tbody>\n</table>\n<p>100000 rows × 4 columns</p>\n</div>"
     },
     "execution_count": 7,
     "metadata": {},
     "output_type": "execute_result"
    }
   ],
   "source": [
    "main_dataset.sort_values(\"Timestamp\")"
   ],
   "metadata": {
    "collapsed": false,
    "ExecuteTime": {
     "end_time": "2023-12-03T13:38:18.709964400Z",
     "start_time": "2023-12-03T13:38:16.501377900Z"
    }
   },
   "id": "36206b8699bb3c8"
  },
  {
   "cell_type": "markdown",
   "source": [
    "Even if there are some timestamps duplicate each other, they are related to the same user.\n",
    "To suggest any movies we don't need this information, thus, it would be better to delete it."
   ],
   "metadata": {
    "collapsed": false
   },
   "id": "84b4866e8c36bb14"
  },
  {
   "cell_type": "code",
   "execution_count": 8,
   "outputs": [],
   "source": [
    "main_dataset.drop(\"Timestamp\", axis=1, inplace=True)"
   ],
   "metadata": {
    "collapsed": false,
    "ExecuteTime": {
     "end_time": "2023-12-03T13:38:18.710961500Z",
     "start_time": "2023-12-03T13:38:16.546302800Z"
    }
   },
   "id": "bb06f09dfb3ee0e0"
  },
  {
   "cell_type": "code",
   "execution_count": 9,
   "outputs": [
    {
     "data": {
      "text/plain": "             UserId         ItemId         Rating\ncount  100000.00000  100000.000000  100000.000000\nmean      462.48475     425.530130       3.529860\nstd       266.61442     330.798356       1.125674\nmin         1.00000       1.000000       1.000000\n25%       254.00000     175.000000       3.000000\n50%       447.00000     322.000000       4.000000\n75%       682.00000     631.000000       4.000000\nmax       943.00000    1682.000000       5.000000",
      "text/html": "<div>\n<style scoped>\n    .dataframe tbody tr th:only-of-type {\n        vertical-align: middle;\n    }\n\n    .dataframe tbody tr th {\n        vertical-align: top;\n    }\n\n    .dataframe thead th {\n        text-align: right;\n    }\n</style>\n<table border=\"1\" class=\"dataframe\">\n  <thead>\n    <tr style=\"text-align: right;\">\n      <th></th>\n      <th>UserId</th>\n      <th>ItemId</th>\n      <th>Rating</th>\n    </tr>\n  </thead>\n  <tbody>\n    <tr>\n      <th>count</th>\n      <td>100000.00000</td>\n      <td>100000.000000</td>\n      <td>100000.000000</td>\n    </tr>\n    <tr>\n      <th>mean</th>\n      <td>462.48475</td>\n      <td>425.530130</td>\n      <td>3.529860</td>\n    </tr>\n    <tr>\n      <th>std</th>\n      <td>266.61442</td>\n      <td>330.798356</td>\n      <td>1.125674</td>\n    </tr>\n    <tr>\n      <th>min</th>\n      <td>1.00000</td>\n      <td>1.000000</td>\n      <td>1.000000</td>\n    </tr>\n    <tr>\n      <th>25%</th>\n      <td>254.00000</td>\n      <td>175.000000</td>\n      <td>3.000000</td>\n    </tr>\n    <tr>\n      <th>50%</th>\n      <td>447.00000</td>\n      <td>322.000000</td>\n      <td>4.000000</td>\n    </tr>\n    <tr>\n      <th>75%</th>\n      <td>682.00000</td>\n      <td>631.000000</td>\n      <td>4.000000</td>\n    </tr>\n    <tr>\n      <th>max</th>\n      <td>943.00000</td>\n      <td>1682.000000</td>\n      <td>5.000000</td>\n    </tr>\n  </tbody>\n</table>\n</div>"
     },
     "execution_count": 9,
     "metadata": {},
     "output_type": "execute_result"
    }
   ],
   "source": [
    "main_dataset.describe()"
   ],
   "metadata": {
    "collapsed": false,
    "ExecuteTime": {
     "end_time": "2023-12-03T13:38:18.712956Z",
     "start_time": "2023-12-03T13:38:16.564774200Z"
    }
   },
   "id": "16536b234947e5d5"
  },
  {
   "cell_type": "markdown",
   "source": [
    "Before I'll upload the movies, I'm uploading the list of genres of the movies, thus, I'll use them to take the full data from the next file."
   ],
   "metadata": {
    "collapsed": false
   },
   "id": "4f6f0169914a6038"
  },
  {
   "cell_type": "code",
   "execution_count": 10,
   "outputs": [
    {
     "data": {
      "text/plain": "         Name  Id\n0     unknown   0\n1      Action   1\n2   Adventure   2\n3   Animation   3\n4  Children's   4",
      "text/html": "<div>\n<style scoped>\n    .dataframe tbody tr th:only-of-type {\n        vertical-align: middle;\n    }\n\n    .dataframe tbody tr th {\n        vertical-align: top;\n    }\n\n    .dataframe thead th {\n        text-align: right;\n    }\n</style>\n<table border=\"1\" class=\"dataframe\">\n  <thead>\n    <tr style=\"text-align: right;\">\n      <th></th>\n      <th>Name</th>\n      <th>Id</th>\n    </tr>\n  </thead>\n  <tbody>\n    <tr>\n      <th>0</th>\n      <td>unknown</td>\n      <td>0</td>\n    </tr>\n    <tr>\n      <th>1</th>\n      <td>Action</td>\n      <td>1</td>\n    </tr>\n    <tr>\n      <th>2</th>\n      <td>Adventure</td>\n      <td>2</td>\n    </tr>\n    <tr>\n      <th>3</th>\n      <td>Animation</td>\n      <td>3</td>\n    </tr>\n    <tr>\n      <th>4</th>\n      <td>Children's</td>\n      <td>4</td>\n    </tr>\n  </tbody>\n</table>\n</div>"
     },
     "execution_count": 10,
     "metadata": {},
     "output_type": "execute_result"
    }
   ],
   "source": [
    "genres = read_data(\"u.genre\", [\"Name\", \"Id\"], sep=\"|\")\n",
    "genres.head()"
   ],
   "metadata": {
    "collapsed": false,
    "ExecuteTime": {
     "end_time": "2023-12-03T13:38:18.714951400Z",
     "start_time": "2023-12-03T13:38:16.629695200Z"
    }
   },
   "id": "4419f91990a65ec4"
  },
  {
   "cell_type": "markdown",
   "source": [
    "And now the dataset of the movies."
   ],
   "metadata": {
    "collapsed": false
   },
   "id": "d5045603cda2cd1d"
  },
  {
   "cell_type": "code",
   "execution_count": 11,
   "outputs": [
    {
     "data": {
      "text/plain": "   Id              Title  ReleaseDate  VideoReleaseDate  \\\n0   1   Toy Story (1995)  01-Jan-1995               NaN   \n1   2   GoldenEye (1995)  01-Jan-1995               NaN   \n2   3  Four Rooms (1995)  01-Jan-1995               NaN   \n3   4  Get Shorty (1995)  01-Jan-1995               NaN   \n4   5     Copycat (1995)  01-Jan-1995               NaN   \n\n                                            IMDB_URL  unknown  Action  \\\n0  http://us.imdb.com/M/title-exact?Toy%20Story%2...        0       0   \n1  http://us.imdb.com/M/title-exact?GoldenEye%20(...        0       1   \n2  http://us.imdb.com/M/title-exact?Four%20Rooms%...        0       0   \n3  http://us.imdb.com/M/title-exact?Get%20Shorty%...        0       1   \n4  http://us.imdb.com/M/title-exact?Copycat%20(1995)        0       0   \n\n   Adventure  Animation  Children's  ...  Fantasy  Film-Noir  Horror  Musical  \\\n0          0          1           1  ...        0          0       0        0   \n1          1          0           0  ...        0          0       0        0   \n2          0          0           0  ...        0          0       0        0   \n3          0          0           0  ...        0          0       0        0   \n4          0          0           0  ...        0          0       0        0   \n\n   Mystery  Romance  Sci-Fi  Thriller  War  Western  \n0        0        0       0         0    0        0  \n1        0        0       0         1    0        0  \n2        0        0       0         1    0        0  \n3        0        0       0         0    0        0  \n4        0        0       0         1    0        0  \n\n[5 rows x 24 columns]",
      "text/html": "<div>\n<style scoped>\n    .dataframe tbody tr th:only-of-type {\n        vertical-align: middle;\n    }\n\n    .dataframe tbody tr th {\n        vertical-align: top;\n    }\n\n    .dataframe thead th {\n        text-align: right;\n    }\n</style>\n<table border=\"1\" class=\"dataframe\">\n  <thead>\n    <tr style=\"text-align: right;\">\n      <th></th>\n      <th>Id</th>\n      <th>Title</th>\n      <th>ReleaseDate</th>\n      <th>VideoReleaseDate</th>\n      <th>IMDB_URL</th>\n      <th>unknown</th>\n      <th>Action</th>\n      <th>Adventure</th>\n      <th>Animation</th>\n      <th>Children's</th>\n      <th>...</th>\n      <th>Fantasy</th>\n      <th>Film-Noir</th>\n      <th>Horror</th>\n      <th>Musical</th>\n      <th>Mystery</th>\n      <th>Romance</th>\n      <th>Sci-Fi</th>\n      <th>Thriller</th>\n      <th>War</th>\n      <th>Western</th>\n    </tr>\n  </thead>\n  <tbody>\n    <tr>\n      <th>0</th>\n      <td>1</td>\n      <td>Toy Story (1995)</td>\n      <td>01-Jan-1995</td>\n      <td>NaN</td>\n      <td>http://us.imdb.com/M/title-exact?Toy%20Story%2...</td>\n      <td>0</td>\n      <td>0</td>\n      <td>0</td>\n      <td>1</td>\n      <td>1</td>\n      <td>...</td>\n      <td>0</td>\n      <td>0</td>\n      <td>0</td>\n      <td>0</td>\n      <td>0</td>\n      <td>0</td>\n      <td>0</td>\n      <td>0</td>\n      <td>0</td>\n      <td>0</td>\n    </tr>\n    <tr>\n      <th>1</th>\n      <td>2</td>\n      <td>GoldenEye (1995)</td>\n      <td>01-Jan-1995</td>\n      <td>NaN</td>\n      <td>http://us.imdb.com/M/title-exact?GoldenEye%20(...</td>\n      <td>0</td>\n      <td>1</td>\n      <td>1</td>\n      <td>0</td>\n      <td>0</td>\n      <td>...</td>\n      <td>0</td>\n      <td>0</td>\n      <td>0</td>\n      <td>0</td>\n      <td>0</td>\n      <td>0</td>\n      <td>0</td>\n      <td>1</td>\n      <td>0</td>\n      <td>0</td>\n    </tr>\n    <tr>\n      <th>2</th>\n      <td>3</td>\n      <td>Four Rooms (1995)</td>\n      <td>01-Jan-1995</td>\n      <td>NaN</td>\n      <td>http://us.imdb.com/M/title-exact?Four%20Rooms%...</td>\n      <td>0</td>\n      <td>0</td>\n      <td>0</td>\n      <td>0</td>\n      <td>0</td>\n      <td>...</td>\n      <td>0</td>\n      <td>0</td>\n      <td>0</td>\n      <td>0</td>\n      <td>0</td>\n      <td>0</td>\n      <td>0</td>\n      <td>1</td>\n      <td>0</td>\n      <td>0</td>\n    </tr>\n    <tr>\n      <th>3</th>\n      <td>4</td>\n      <td>Get Shorty (1995)</td>\n      <td>01-Jan-1995</td>\n      <td>NaN</td>\n      <td>http://us.imdb.com/M/title-exact?Get%20Shorty%...</td>\n      <td>0</td>\n      <td>1</td>\n      <td>0</td>\n      <td>0</td>\n      <td>0</td>\n      <td>...</td>\n      <td>0</td>\n      <td>0</td>\n      <td>0</td>\n      <td>0</td>\n      <td>0</td>\n      <td>0</td>\n      <td>0</td>\n      <td>0</td>\n      <td>0</td>\n      <td>0</td>\n    </tr>\n    <tr>\n      <th>4</th>\n      <td>5</td>\n      <td>Copycat (1995)</td>\n      <td>01-Jan-1995</td>\n      <td>NaN</td>\n      <td>http://us.imdb.com/M/title-exact?Copycat%20(1995)</td>\n      <td>0</td>\n      <td>0</td>\n      <td>0</td>\n      <td>0</td>\n      <td>0</td>\n      <td>...</td>\n      <td>0</td>\n      <td>0</td>\n      <td>0</td>\n      <td>0</td>\n      <td>0</td>\n      <td>0</td>\n      <td>0</td>\n      <td>1</td>\n      <td>0</td>\n      <td>0</td>\n    </tr>\n  </tbody>\n</table>\n<p>5 rows × 24 columns</p>\n</div>"
     },
     "execution_count": 11,
     "metadata": {},
     "output_type": "execute_result"
    }
   ],
   "source": [
    "movies_dataset_names = [\"Id\", \"Title\", \"ReleaseDate\", \"VideoReleaseDate\", \"IMDB_URL\"] + genres.Name.tolist()\n",
    "movies = read_data(\"u.item\", movies_dataset_names, sep=\"|\", encoding=\"latin-1\")\n",
    "movies.head()"
   ],
   "metadata": {
    "collapsed": false,
    "ExecuteTime": {
     "end_time": "2023-12-03T13:38:18.717943Z",
     "start_time": "2023-12-03T13:38:16.657619100Z"
    }
   },
   "id": "aaa46096aead4b0b"
  },
  {
   "cell_type": "markdown",
   "source": [
    "Let's analyze it."
   ],
   "metadata": {
    "collapsed": false
   },
   "id": "241e5cfa2f3eb9f"
  },
  {
   "cell_type": "code",
   "execution_count": 12,
   "outputs": [
    {
     "data": {
      "text/plain": "Id                     0\nTitle                  0\nReleaseDate            1\nVideoReleaseDate    1682\nIMDB_URL               3\nunknown                0\nAction                 0\nAdventure              0\nAnimation              0\nChildren's             0\nComedy                 0\nCrime                  0\nDocumentary            0\nDrama                  0\nFantasy                0\nFilm-Noir              0\nHorror                 0\nMusical                0\nMystery                0\nRomance                0\nSci-Fi                 0\nThriller               0\nWar                    0\nWestern                0\ndtype: int64"
     },
     "execution_count": 12,
     "metadata": {},
     "output_type": "execute_result"
    }
   ],
   "source": [
    "movies.isna().sum()"
   ],
   "metadata": {
    "collapsed": false,
    "ExecuteTime": {
     "end_time": "2023-12-03T13:38:18.719938200Z",
     "start_time": "2023-12-03T13:38:16.813229300Z"
    }
   },
   "id": "771c1620986f4015"
  },
  {
   "cell_type": "markdown",
   "source": [
    "I have no idea why we need information about when the movie's video was released; it will not help us anyhow suggest the films in real life.\n",
    "So I'll remove this column to exclude the problem with multiple `Nan`s in the dataset."
   ],
   "metadata": {
    "collapsed": false
   },
   "id": "87a41947231bf6cd"
  },
  {
   "cell_type": "code",
   "execution_count": 13,
   "outputs": [],
   "source": [
    "movies.drop(\"VideoReleaseDate\", axis=1, inplace=True)"
   ],
   "metadata": {
    "collapsed": false,
    "ExecuteTime": {
     "end_time": "2023-12-03T13:38:18.720935100Z",
     "start_time": "2023-12-03T13:38:16.849474300Z"
    }
   },
   "id": "349ef9b4265f0c8"
  },
  {
   "cell_type": "markdown",
   "source": [
    "`Release date` may help us to suggest films from one era.\n",
    "To fill this `Nan` value I'll just google the release date of this film."
   ],
   "metadata": {
    "collapsed": false
   },
   "id": "2738ebe5744e395f"
  },
  {
   "cell_type": "code",
   "execution_count": 14,
   "outputs": [
    {
     "data": {
      "text/plain": "      Id    Title ReleaseDate IMDB_URL  unknown  Action  Adventure  Animation  \\\n266  267  unknown         NaN      NaN        1       0          0          0   \n\n     Children's  Comedy  ...  Fantasy  Film-Noir  Horror  Musical  Mystery  \\\n266           0       0  ...        0          0       0        0        0   \n\n     Romance  Sci-Fi  Thriller  War  Western  \n266        0       0         0    0        0  \n\n[1 rows x 23 columns]",
      "text/html": "<div>\n<style scoped>\n    .dataframe tbody tr th:only-of-type {\n        vertical-align: middle;\n    }\n\n    .dataframe tbody tr th {\n        vertical-align: top;\n    }\n\n    .dataframe thead th {\n        text-align: right;\n    }\n</style>\n<table border=\"1\" class=\"dataframe\">\n  <thead>\n    <tr style=\"text-align: right;\">\n      <th></th>\n      <th>Id</th>\n      <th>Title</th>\n      <th>ReleaseDate</th>\n      <th>IMDB_URL</th>\n      <th>unknown</th>\n      <th>Action</th>\n      <th>Adventure</th>\n      <th>Animation</th>\n      <th>Children's</th>\n      <th>Comedy</th>\n      <th>...</th>\n      <th>Fantasy</th>\n      <th>Film-Noir</th>\n      <th>Horror</th>\n      <th>Musical</th>\n      <th>Mystery</th>\n      <th>Romance</th>\n      <th>Sci-Fi</th>\n      <th>Thriller</th>\n      <th>War</th>\n      <th>Western</th>\n    </tr>\n  </thead>\n  <tbody>\n    <tr>\n      <th>266</th>\n      <td>267</td>\n      <td>unknown</td>\n      <td>NaN</td>\n      <td>NaN</td>\n      <td>1</td>\n      <td>0</td>\n      <td>0</td>\n      <td>0</td>\n      <td>0</td>\n      <td>0</td>\n      <td>...</td>\n      <td>0</td>\n      <td>0</td>\n      <td>0</td>\n      <td>0</td>\n      <td>0</td>\n      <td>0</td>\n      <td>0</td>\n      <td>0</td>\n      <td>0</td>\n      <td>0</td>\n    </tr>\n  </tbody>\n</table>\n<p>1 rows × 23 columns</p>\n</div>"
     },
     "execution_count": 14,
     "metadata": {},
     "output_type": "execute_result"
    }
   ],
   "source": [
    "movies[movies[\"ReleaseDate\"].isna()]"
   ],
   "metadata": {
    "collapsed": false,
    "ExecuteTime": {
     "end_time": "2023-12-03T13:38:18.723927400Z",
     "start_time": "2023-12-03T13:38:16.888617800Z"
    }
   },
   "id": "b604a165b996f2ee"
  },
  {
   "cell_type": "markdown",
   "source": [
    "Ok, it's just something unusual.\n",
    "We can completely remove this movie from the dataset, because we even cannot just it to somebody."
   ],
   "metadata": {
    "collapsed": false
   },
   "id": "aed689044cdc7392"
  },
  {
   "cell_type": "code",
   "execution_count": 15,
   "outputs": [],
   "source": [
    "movies.dropna(subset=[\"ReleaseDate\"], inplace=True)"
   ],
   "metadata": {
    "collapsed": false,
    "ExecuteTime": {
     "end_time": "2023-12-03T13:38:18.724922900Z",
     "start_time": "2023-12-03T13:38:16.961724Z"
    }
   },
   "id": "899e2dc611961a56"
  },
  {
   "cell_type": "markdown",
   "source": [
    "It's also needed to remove it from the dataset with ratings."
   ],
   "metadata": {
    "collapsed": false
   },
   "id": "41351ebe55117da"
  },
  {
   "cell_type": "code",
   "execution_count": 16,
   "outputs": [],
   "source": [
    "main_dataset.drop(main_dataset[main_dataset[\"ItemId\"] == 267].index, inplace=True)"
   ],
   "metadata": {
    "collapsed": false,
    "ExecuteTime": {
     "end_time": "2023-12-03T13:38:18.724922900Z",
     "start_time": "2023-12-03T13:38:17.061459100Z"
    }
   },
   "id": "5c58109a1174e9f1"
  },
  {
   "cell_type": "markdown",
   "source": [
    "The last one, let's check the `Nan`s in the `IMDB` column."
   ],
   "metadata": {
    "collapsed": false
   },
   "id": "641bac5370381f1d"
  },
  {
   "cell_type": "code",
   "execution_count": 17,
   "outputs": [
    {
     "data": {
      "text/plain": "        Id                   Title  ReleaseDate IMDB_URL  unknown  Action  \\\n1357  1358  The Deadly Cure (1996)  16-Sep-1996      NaN        0       1   \n1358  1359   Boys in Venice (1996)  24-Sep-1996      NaN        0       0   \n\n      Adventure  Animation  Children's  Comedy  ...  Fantasy  Film-Noir  \\\n1357          0          0           0       0  ...        0          0   \n1358          0          0           0       0  ...        0          0   \n\n      Horror  Musical  Mystery  Romance  Sci-Fi  Thriller  War  Western  \n1357       0        0        0        0       0         0    0        0  \n1358       0        0        0        0       0         0    0        0  \n\n[2 rows x 23 columns]",
      "text/html": "<div>\n<style scoped>\n    .dataframe tbody tr th:only-of-type {\n        vertical-align: middle;\n    }\n\n    .dataframe tbody tr th {\n        vertical-align: top;\n    }\n\n    .dataframe thead th {\n        text-align: right;\n    }\n</style>\n<table border=\"1\" class=\"dataframe\">\n  <thead>\n    <tr style=\"text-align: right;\">\n      <th></th>\n      <th>Id</th>\n      <th>Title</th>\n      <th>ReleaseDate</th>\n      <th>IMDB_URL</th>\n      <th>unknown</th>\n      <th>Action</th>\n      <th>Adventure</th>\n      <th>Animation</th>\n      <th>Children's</th>\n      <th>Comedy</th>\n      <th>...</th>\n      <th>Fantasy</th>\n      <th>Film-Noir</th>\n      <th>Horror</th>\n      <th>Musical</th>\n      <th>Mystery</th>\n      <th>Romance</th>\n      <th>Sci-Fi</th>\n      <th>Thriller</th>\n      <th>War</th>\n      <th>Western</th>\n    </tr>\n  </thead>\n  <tbody>\n    <tr>\n      <th>1357</th>\n      <td>1358</td>\n      <td>The Deadly Cure (1996)</td>\n      <td>16-Sep-1996</td>\n      <td>NaN</td>\n      <td>0</td>\n      <td>1</td>\n      <td>0</td>\n      <td>0</td>\n      <td>0</td>\n      <td>0</td>\n      <td>...</td>\n      <td>0</td>\n      <td>0</td>\n      <td>0</td>\n      <td>0</td>\n      <td>0</td>\n      <td>0</td>\n      <td>0</td>\n      <td>0</td>\n      <td>0</td>\n      <td>0</td>\n    </tr>\n    <tr>\n      <th>1358</th>\n      <td>1359</td>\n      <td>Boys in Venice (1996)</td>\n      <td>24-Sep-1996</td>\n      <td>NaN</td>\n      <td>0</td>\n      <td>0</td>\n      <td>0</td>\n      <td>0</td>\n      <td>0</td>\n      <td>0</td>\n      <td>...</td>\n      <td>0</td>\n      <td>0</td>\n      <td>0</td>\n      <td>0</td>\n      <td>0</td>\n      <td>0</td>\n      <td>0</td>\n      <td>0</td>\n      <td>0</td>\n      <td>0</td>\n    </tr>\n  </tbody>\n</table>\n<p>2 rows × 23 columns</p>\n</div>"
     },
     "execution_count": 17,
     "metadata": {},
     "output_type": "execute_result"
    }
   ],
   "source": [
    "movies[movies[\"IMDB_URL\"].isna()]"
   ],
   "metadata": {
    "collapsed": false,
    "ExecuteTime": {
     "end_time": "2023-12-03T13:38:18.727915300Z",
     "start_time": "2023-12-03T13:38:17.384795200Z"
    }
   },
   "id": "b0bc254a1ba54b4a"
  },
  {
   "cell_type": "markdown",
   "source": [
    "I googled and found the first movie: [The Deadly Cure](https://www.imdb.com/title/tt0645145/)."
   ],
   "metadata": {
    "collapsed": false
   },
   "id": "dff7cbabdf3a037d"
  },
  {
   "cell_type": "code",
   "execution_count": 18,
   "outputs": [],
   "source": [
    "movies[movies[\"IMDB_URL\"] == \"The Deadly Cure\"] = \"https://www.imdb.com/title/tt0645145/\""
   ],
   "metadata": {
    "collapsed": false,
    "ExecuteTime": {
     "end_time": "2023-12-03T13:38:18.729911Z",
     "start_time": "2023-12-03T13:38:17.601240600Z"
    }
   },
   "id": "991991c249dc474f"
  },
  {
   "cell_type": "markdown",
   "source": [
    "But there is a problem with another: `Boys in Venice` is not googled.\n",
    "It exists with 1978 year released. I have to find the film with genre \"Drama\",\n",
    "but this [movie](https://www.imdb.com/title/tt0211986/) has another genre, and I'm not sure that's what people want to see as suggestions for Drama.\n",
    "There is no another option on the internet, so I will just print every time that there are no any links to this film."
   ],
   "metadata": {
    "collapsed": false
   },
   "id": "b4ea8a1e22492290"
  },
  {
   "cell_type": "code",
   "execution_count": 19,
   "outputs": [],
   "source": [
    "movies.fillna({\"IMDB_URL\": \"no links available\"}, inplace=True)"
   ],
   "metadata": {
    "collapsed": false,
    "ExecuteTime": {
     "end_time": "2023-12-03T13:38:18.730908Z",
     "start_time": "2023-12-03T13:38:17.647118500Z"
    }
   },
   "id": "fce190985b6555aa"
  },
  {
   "cell_type": "code",
   "execution_count": 20,
   "outputs": [
    {
     "data": {
      "text/plain": "Id             0\nTitle          0\nReleaseDate    0\nIMDB_URL       0\nunknown        0\nAction         0\nAdventure      0\nAnimation      0\nChildren's     0\nComedy         0\nCrime          0\nDocumentary    0\nDrama          0\nFantasy        0\nFilm-Noir      0\nHorror         0\nMusical        0\nMystery        0\nRomance        0\nSci-Fi         0\nThriller       0\nWar            0\nWestern        0\ndtype: int64"
     },
     "execution_count": 20,
     "metadata": {},
     "output_type": "execute_result"
    }
   ],
   "source": [
    "movies.isna().sum()"
   ],
   "metadata": {
    "collapsed": false,
    "ExecuteTime": {
     "end_time": "2023-12-03T13:38:18.781771500Z",
     "start_time": "2023-12-03T13:38:17.661540800Z"
    }
   },
   "id": "36107050a9bd728b"
  },
  {
   "cell_type": "markdown",
   "source": [
    "Perfect. Now let's check uniqueness"
   ],
   "metadata": {
    "collapsed": false
   },
   "id": "62cca86e9d584f88"
  },
  {
   "cell_type": "code",
   "execution_count": 21,
   "outputs": [
    {
     "data": {
      "text/plain": "Id             1681\nTitle          1663\nReleaseDate     240\nIMDB_URL       1661\nunknown           2\nAction            2\nAdventure         2\nAnimation         2\nChildren's        2\nComedy            2\nCrime             2\nDocumentary       2\nDrama             2\nFantasy           2\nFilm-Noir         2\nHorror            2\nMusical           2\nMystery           2\nRomance           2\nSci-Fi            2\nThriller          2\nWar               2\nWestern           2\ndtype: int64"
     },
     "execution_count": 21,
     "metadata": {},
     "output_type": "execute_result"
    }
   ],
   "source": [
    "movies.nunique()"
   ],
   "metadata": {
    "collapsed": false,
    "ExecuteTime": {
     "end_time": "2023-12-03T13:38:18.783766200Z",
     "start_time": "2023-12-03T13:38:17.760621100Z"
    }
   },
   "id": "675a3bfc0d7d3cf5"
  },
  {
   "cell_type": "markdown",
   "source": [
    "It's not right the `Title` column does not have all distinct values, some rows contain duplicates. Let's look at them."
   ],
   "metadata": {
    "collapsed": false
   },
   "id": "2d0d757fd3e43381"
  },
  {
   "cell_type": "code",
   "execution_count": 22,
   "outputs": [
    {
     "data": {
      "text/plain": "        Id                           Title  ReleaseDate  \\\n267    268              Chasing Amy (1997)  01-Jan-1997   \n302    303              Ulee's Gold (1997)  01-Jan-1997   \n347    348       Desperate Measures (1998)  30-Jan-1998   \n499    500            Fly Away Home (1996)  13-Sep-1996   \n669    670           Body Snatchers (1993)  01-Jan-1993   \n679    680       Kull the Conqueror (1997)  29-Aug-1997   \n864    865           Ice Storm, The (1997)  01-Jan-1997   \n880    881              Money Talks (1997)  22-Aug-1997   \n1002  1003           That Darn Cat! (1997)  14-Feb-1997   \n1256  1257  Designated Mourner, The (1997)  23-May-1997   \n1605  1606                 Deceiver (1997)  01-Jan-1997   \n1606  1607        Hurricane Streets (1998)  01-Jan-1998   \n1616  1617                Hugo Pool (1997)  01-Jan-1997   \n1624  1625               Nightwatch (1997)  22-Apr-1997   \n1649  1650         Butcher Boy, The (1998)  01-Jan-1998   \n1653  1654    Chairman of the Board (1998)  01-Jan-1998   \n1657  1658   Substance of Fire, The (1996)  06-Dec-1996   \n1679  1680            Sliding Doors (1998)  01-Jan-1998   \n\n                                               IMDB_URL  unknown  Action  \\\n267   http://us.imdb.com/M/title-exact?Chasing+Amy+(...        0       0   \n302   http://us.imdb.com/M/title-exact?Ulee%27s+Gold...        0       0   \n347   http://us.imdb.com/Title?Desperate+Measures+(1...        0       0   \n499   http://us.imdb.com/M/title-exact?Fly%20Away%20...        0       0   \n669   http://us.imdb.com/M/title-exact?Body%20Snatch...        0       0   \n679   http://us.imdb.com/M/title-exact?Kull+the+Conq...        0       1   \n864   http://us.imdb.com/M/title-exact?Ice+Storm%2C+...        0       0   \n880   http://us.imdb.com/M/title-exact?Money+Talks+(...        0       1   \n1002  http://us.imdb.com/M/title-exact?That%20Darn%2...        0       0   \n1256  http://us.imdb.com/M/title-exact?Designated%20...        0       0   \n1605       http://us.imdb.com/M/title-exact?Liar+(1997)        0       0   \n1606  http://us.imdb.com/Title?Hurricane+Streets+(1998)        0       0   \n1616  http://us.imdb.com/M/title-exact?Hugo+Pool+(1997)        0       0   \n1624  http://us.imdb.com/M/title-exact?Nightwatch%20...        0       0   \n1649  http://us.imdb.com/M/title-exact?imdb-title-11...        0       0   \n1653  http://us.imdb.com/Title?Chairman+of+the+Board...        0       0   \n1657  http://us.imdb.com/M/title-exact?Substance%20o...        0       0   \n1679      http://us.imdb.com/Title?Sliding+Doors+(1998)        0       0   \n\n      Adventure  Animation  Children's  Comedy  ...  Fantasy  Film-Noir  \\\n267           0          0           0       0  ...        0          0   \n302           0          0           0       0  ...        0          0   \n347           0          0           0       0  ...        0          0   \n499           1          0           1       0  ...        0          0   \n669           0          0           0       0  ...        0          0   \n679           1          0           0       0  ...        0          0   \n864           0          0           0       0  ...        0          0   \n880           0          0           0       1  ...        0          0   \n1002          0          0           1       1  ...        0          0   \n1256          0          0           0       0  ...        0          0   \n1605          0          0           0       0  ...        0          0   \n1606          0          0           0       0  ...        0          0   \n1616          0          0           0       0  ...        0          0   \n1624          0          0           0       0  ...        0          0   \n1649          0          0           0       0  ...        0          0   \n1653          0          0           0       1  ...        0          0   \n1657          0          0           0       0  ...        0          0   \n1679          0          0           0       0  ...        0          0   \n\n      Horror  Musical  Mystery  Romance  Sci-Fi  Thriller  War  Western  \n267        0        0        0        1       0         0    0        0  \n302        0        0        0        0       0         0    0        0  \n347        0        0        0        0       0         1    0        0  \n499        0        0        0        0       0         0    0        0  \n669        1        0        0        0       1         1    0        0  \n679        0        0        0        0       0         0    0        0  \n864        0        0        0        0       0         0    0        0  \n880        0        0        0        0       0         0    0        0  \n1002       0        0        1        0       0         0    0        0  \n1256       0        0        0        0       0         0    0        0  \n1605       0        0        0        0       0         0    0        0  \n1606       0        0        0        0       0         0    0        0  \n1616       0        0        0        1       0         0    0        0  \n1624       1        0        0        0       0         1    0        0  \n1649       0        0        0        0       0         0    0        0  \n1653       0        0        0        0       0         0    0        0  \n1657       0        0        0        0       0         0    0        0  \n1679       0        0        0        1       0         0    0        0  \n\n[18 rows x 23 columns]",
      "text/html": "<div>\n<style scoped>\n    .dataframe tbody tr th:only-of-type {\n        vertical-align: middle;\n    }\n\n    .dataframe tbody tr th {\n        vertical-align: top;\n    }\n\n    .dataframe thead th {\n        text-align: right;\n    }\n</style>\n<table border=\"1\" class=\"dataframe\">\n  <thead>\n    <tr style=\"text-align: right;\">\n      <th></th>\n      <th>Id</th>\n      <th>Title</th>\n      <th>ReleaseDate</th>\n      <th>IMDB_URL</th>\n      <th>unknown</th>\n      <th>Action</th>\n      <th>Adventure</th>\n      <th>Animation</th>\n      <th>Children's</th>\n      <th>Comedy</th>\n      <th>...</th>\n      <th>Fantasy</th>\n      <th>Film-Noir</th>\n      <th>Horror</th>\n      <th>Musical</th>\n      <th>Mystery</th>\n      <th>Romance</th>\n      <th>Sci-Fi</th>\n      <th>Thriller</th>\n      <th>War</th>\n      <th>Western</th>\n    </tr>\n  </thead>\n  <tbody>\n    <tr>\n      <th>267</th>\n      <td>268</td>\n      <td>Chasing Amy (1997)</td>\n      <td>01-Jan-1997</td>\n      <td>http://us.imdb.com/M/title-exact?Chasing+Amy+(...</td>\n      <td>0</td>\n      <td>0</td>\n      <td>0</td>\n      <td>0</td>\n      <td>0</td>\n      <td>0</td>\n      <td>...</td>\n      <td>0</td>\n      <td>0</td>\n      <td>0</td>\n      <td>0</td>\n      <td>0</td>\n      <td>1</td>\n      <td>0</td>\n      <td>0</td>\n      <td>0</td>\n      <td>0</td>\n    </tr>\n    <tr>\n      <th>302</th>\n      <td>303</td>\n      <td>Ulee's Gold (1997)</td>\n      <td>01-Jan-1997</td>\n      <td>http://us.imdb.com/M/title-exact?Ulee%27s+Gold...</td>\n      <td>0</td>\n      <td>0</td>\n      <td>0</td>\n      <td>0</td>\n      <td>0</td>\n      <td>0</td>\n      <td>...</td>\n      <td>0</td>\n      <td>0</td>\n      <td>0</td>\n      <td>0</td>\n      <td>0</td>\n      <td>0</td>\n      <td>0</td>\n      <td>0</td>\n      <td>0</td>\n      <td>0</td>\n    </tr>\n    <tr>\n      <th>347</th>\n      <td>348</td>\n      <td>Desperate Measures (1998)</td>\n      <td>30-Jan-1998</td>\n      <td>http://us.imdb.com/Title?Desperate+Measures+(1...</td>\n      <td>0</td>\n      <td>0</td>\n      <td>0</td>\n      <td>0</td>\n      <td>0</td>\n      <td>0</td>\n      <td>...</td>\n      <td>0</td>\n      <td>0</td>\n      <td>0</td>\n      <td>0</td>\n      <td>0</td>\n      <td>0</td>\n      <td>0</td>\n      <td>1</td>\n      <td>0</td>\n      <td>0</td>\n    </tr>\n    <tr>\n      <th>499</th>\n      <td>500</td>\n      <td>Fly Away Home (1996)</td>\n      <td>13-Sep-1996</td>\n      <td>http://us.imdb.com/M/title-exact?Fly%20Away%20...</td>\n      <td>0</td>\n      <td>0</td>\n      <td>1</td>\n      <td>0</td>\n      <td>1</td>\n      <td>0</td>\n      <td>...</td>\n      <td>0</td>\n      <td>0</td>\n      <td>0</td>\n      <td>0</td>\n      <td>0</td>\n      <td>0</td>\n      <td>0</td>\n      <td>0</td>\n      <td>0</td>\n      <td>0</td>\n    </tr>\n    <tr>\n      <th>669</th>\n      <td>670</td>\n      <td>Body Snatchers (1993)</td>\n      <td>01-Jan-1993</td>\n      <td>http://us.imdb.com/M/title-exact?Body%20Snatch...</td>\n      <td>0</td>\n      <td>0</td>\n      <td>0</td>\n      <td>0</td>\n      <td>0</td>\n      <td>0</td>\n      <td>...</td>\n      <td>0</td>\n      <td>0</td>\n      <td>1</td>\n      <td>0</td>\n      <td>0</td>\n      <td>0</td>\n      <td>1</td>\n      <td>1</td>\n      <td>0</td>\n      <td>0</td>\n    </tr>\n    <tr>\n      <th>679</th>\n      <td>680</td>\n      <td>Kull the Conqueror (1997)</td>\n      <td>29-Aug-1997</td>\n      <td>http://us.imdb.com/M/title-exact?Kull+the+Conq...</td>\n      <td>0</td>\n      <td>1</td>\n      <td>1</td>\n      <td>0</td>\n      <td>0</td>\n      <td>0</td>\n      <td>...</td>\n      <td>0</td>\n      <td>0</td>\n      <td>0</td>\n      <td>0</td>\n      <td>0</td>\n      <td>0</td>\n      <td>0</td>\n      <td>0</td>\n      <td>0</td>\n      <td>0</td>\n    </tr>\n    <tr>\n      <th>864</th>\n      <td>865</td>\n      <td>Ice Storm, The (1997)</td>\n      <td>01-Jan-1997</td>\n      <td>http://us.imdb.com/M/title-exact?Ice+Storm%2C+...</td>\n      <td>0</td>\n      <td>0</td>\n      <td>0</td>\n      <td>0</td>\n      <td>0</td>\n      <td>0</td>\n      <td>...</td>\n      <td>0</td>\n      <td>0</td>\n      <td>0</td>\n      <td>0</td>\n      <td>0</td>\n      <td>0</td>\n      <td>0</td>\n      <td>0</td>\n      <td>0</td>\n      <td>0</td>\n    </tr>\n    <tr>\n      <th>880</th>\n      <td>881</td>\n      <td>Money Talks (1997)</td>\n      <td>22-Aug-1997</td>\n      <td>http://us.imdb.com/M/title-exact?Money+Talks+(...</td>\n      <td>0</td>\n      <td>1</td>\n      <td>0</td>\n      <td>0</td>\n      <td>0</td>\n      <td>1</td>\n      <td>...</td>\n      <td>0</td>\n      <td>0</td>\n      <td>0</td>\n      <td>0</td>\n      <td>0</td>\n      <td>0</td>\n      <td>0</td>\n      <td>0</td>\n      <td>0</td>\n      <td>0</td>\n    </tr>\n    <tr>\n      <th>1002</th>\n      <td>1003</td>\n      <td>That Darn Cat! (1997)</td>\n      <td>14-Feb-1997</td>\n      <td>http://us.imdb.com/M/title-exact?That%20Darn%2...</td>\n      <td>0</td>\n      <td>0</td>\n      <td>0</td>\n      <td>0</td>\n      <td>1</td>\n      <td>1</td>\n      <td>...</td>\n      <td>0</td>\n      <td>0</td>\n      <td>0</td>\n      <td>0</td>\n      <td>1</td>\n      <td>0</td>\n      <td>0</td>\n      <td>0</td>\n      <td>0</td>\n      <td>0</td>\n    </tr>\n    <tr>\n      <th>1256</th>\n      <td>1257</td>\n      <td>Designated Mourner, The (1997)</td>\n      <td>23-May-1997</td>\n      <td>http://us.imdb.com/M/title-exact?Designated%20...</td>\n      <td>0</td>\n      <td>0</td>\n      <td>0</td>\n      <td>0</td>\n      <td>0</td>\n      <td>0</td>\n      <td>...</td>\n      <td>0</td>\n      <td>0</td>\n      <td>0</td>\n      <td>0</td>\n      <td>0</td>\n      <td>0</td>\n      <td>0</td>\n      <td>0</td>\n      <td>0</td>\n      <td>0</td>\n    </tr>\n    <tr>\n      <th>1605</th>\n      <td>1606</td>\n      <td>Deceiver (1997)</td>\n      <td>01-Jan-1997</td>\n      <td>http://us.imdb.com/M/title-exact?Liar+(1997)</td>\n      <td>0</td>\n      <td>0</td>\n      <td>0</td>\n      <td>0</td>\n      <td>0</td>\n      <td>0</td>\n      <td>...</td>\n      <td>0</td>\n      <td>0</td>\n      <td>0</td>\n      <td>0</td>\n      <td>0</td>\n      <td>0</td>\n      <td>0</td>\n      <td>0</td>\n      <td>0</td>\n      <td>0</td>\n    </tr>\n    <tr>\n      <th>1606</th>\n      <td>1607</td>\n      <td>Hurricane Streets (1998)</td>\n      <td>01-Jan-1998</td>\n      <td>http://us.imdb.com/Title?Hurricane+Streets+(1998)</td>\n      <td>0</td>\n      <td>0</td>\n      <td>0</td>\n      <td>0</td>\n      <td>0</td>\n      <td>0</td>\n      <td>...</td>\n      <td>0</td>\n      <td>0</td>\n      <td>0</td>\n      <td>0</td>\n      <td>0</td>\n      <td>0</td>\n      <td>0</td>\n      <td>0</td>\n      <td>0</td>\n      <td>0</td>\n    </tr>\n    <tr>\n      <th>1616</th>\n      <td>1617</td>\n      <td>Hugo Pool (1997)</td>\n      <td>01-Jan-1997</td>\n      <td>http://us.imdb.com/M/title-exact?Hugo+Pool+(1997)</td>\n      <td>0</td>\n      <td>0</td>\n      <td>0</td>\n      <td>0</td>\n      <td>0</td>\n      <td>0</td>\n      <td>...</td>\n      <td>0</td>\n      <td>0</td>\n      <td>0</td>\n      <td>0</td>\n      <td>0</td>\n      <td>1</td>\n      <td>0</td>\n      <td>0</td>\n      <td>0</td>\n      <td>0</td>\n    </tr>\n    <tr>\n      <th>1624</th>\n      <td>1625</td>\n      <td>Nightwatch (1997)</td>\n      <td>22-Apr-1997</td>\n      <td>http://us.imdb.com/M/title-exact?Nightwatch%20...</td>\n      <td>0</td>\n      <td>0</td>\n      <td>0</td>\n      <td>0</td>\n      <td>0</td>\n      <td>0</td>\n      <td>...</td>\n      <td>0</td>\n      <td>0</td>\n      <td>1</td>\n      <td>0</td>\n      <td>0</td>\n      <td>0</td>\n      <td>0</td>\n      <td>1</td>\n      <td>0</td>\n      <td>0</td>\n    </tr>\n    <tr>\n      <th>1649</th>\n      <td>1650</td>\n      <td>Butcher Boy, The (1998)</td>\n      <td>01-Jan-1998</td>\n      <td>http://us.imdb.com/M/title-exact?imdb-title-11...</td>\n      <td>0</td>\n      <td>0</td>\n      <td>0</td>\n      <td>0</td>\n      <td>0</td>\n      <td>0</td>\n      <td>...</td>\n      <td>0</td>\n      <td>0</td>\n      <td>0</td>\n      <td>0</td>\n      <td>0</td>\n      <td>0</td>\n      <td>0</td>\n      <td>0</td>\n      <td>0</td>\n      <td>0</td>\n    </tr>\n    <tr>\n      <th>1653</th>\n      <td>1654</td>\n      <td>Chairman of the Board (1998)</td>\n      <td>01-Jan-1998</td>\n      <td>http://us.imdb.com/Title?Chairman+of+the+Board...</td>\n      <td>0</td>\n      <td>0</td>\n      <td>0</td>\n      <td>0</td>\n      <td>0</td>\n      <td>1</td>\n      <td>...</td>\n      <td>0</td>\n      <td>0</td>\n      <td>0</td>\n      <td>0</td>\n      <td>0</td>\n      <td>0</td>\n      <td>0</td>\n      <td>0</td>\n      <td>0</td>\n      <td>0</td>\n    </tr>\n    <tr>\n      <th>1657</th>\n      <td>1658</td>\n      <td>Substance of Fire, The (1996)</td>\n      <td>06-Dec-1996</td>\n      <td>http://us.imdb.com/M/title-exact?Substance%20o...</td>\n      <td>0</td>\n      <td>0</td>\n      <td>0</td>\n      <td>0</td>\n      <td>0</td>\n      <td>0</td>\n      <td>...</td>\n      <td>0</td>\n      <td>0</td>\n      <td>0</td>\n      <td>0</td>\n      <td>0</td>\n      <td>0</td>\n      <td>0</td>\n      <td>0</td>\n      <td>0</td>\n      <td>0</td>\n    </tr>\n    <tr>\n      <th>1679</th>\n      <td>1680</td>\n      <td>Sliding Doors (1998)</td>\n      <td>01-Jan-1998</td>\n      <td>http://us.imdb.com/Title?Sliding+Doors+(1998)</td>\n      <td>0</td>\n      <td>0</td>\n      <td>0</td>\n      <td>0</td>\n      <td>0</td>\n      <td>0</td>\n      <td>...</td>\n      <td>0</td>\n      <td>0</td>\n      <td>0</td>\n      <td>0</td>\n      <td>0</td>\n      <td>1</td>\n      <td>0</td>\n      <td>0</td>\n      <td>0</td>\n      <td>0</td>\n    </tr>\n  </tbody>\n</table>\n<p>18 rows × 23 columns</p>\n</div>"
     },
     "execution_count": 22,
     "metadata": {},
     "output_type": "execute_result"
    }
   ],
   "source": [
    "movies[movies[\"Title\"].duplicated()]"
   ],
   "metadata": {
    "collapsed": false,
    "ExecuteTime": {
     "end_time": "2023-12-03T13:38:18.791743800Z",
     "start_time": "2023-12-03T13:38:17.824452100Z"
    }
   },
   "id": "de0de4d2318443dd"
  },
  {
   "cell_type": "code",
   "execution_count": 23,
   "outputs": [
    {
     "data": {
      "text/plain": "      Id               Title  ReleaseDate  \\\n245  246  Chasing Amy (1997)  01-Jan-1997   \n267  268  Chasing Amy (1997)  01-Jan-1997   \n\n                                              IMDB_URL  unknown  Action  \\\n245  http://us.imdb.com/M/title-exact?Chasing+Amy+(...        0       0   \n267  http://us.imdb.com/M/title-exact?Chasing+Amy+(...        0       0   \n\n     Adventure  Animation  Children's  Comedy  ...  Fantasy  Film-Noir  \\\n245          0          0           0       0  ...        0          0   \n267          0          0           0       0  ...        0          0   \n\n     Horror  Musical  Mystery  Romance  Sci-Fi  Thriller  War  Western  \n245       0        0        0        1       0         0    0        0  \n267       0        0        0        1       0         0    0        0  \n\n[2 rows x 23 columns]",
      "text/html": "<div>\n<style scoped>\n    .dataframe tbody tr th:only-of-type {\n        vertical-align: middle;\n    }\n\n    .dataframe tbody tr th {\n        vertical-align: top;\n    }\n\n    .dataframe thead th {\n        text-align: right;\n    }\n</style>\n<table border=\"1\" class=\"dataframe\">\n  <thead>\n    <tr style=\"text-align: right;\">\n      <th></th>\n      <th>Id</th>\n      <th>Title</th>\n      <th>ReleaseDate</th>\n      <th>IMDB_URL</th>\n      <th>unknown</th>\n      <th>Action</th>\n      <th>Adventure</th>\n      <th>Animation</th>\n      <th>Children's</th>\n      <th>Comedy</th>\n      <th>...</th>\n      <th>Fantasy</th>\n      <th>Film-Noir</th>\n      <th>Horror</th>\n      <th>Musical</th>\n      <th>Mystery</th>\n      <th>Romance</th>\n      <th>Sci-Fi</th>\n      <th>Thriller</th>\n      <th>War</th>\n      <th>Western</th>\n    </tr>\n  </thead>\n  <tbody>\n    <tr>\n      <th>245</th>\n      <td>246</td>\n      <td>Chasing Amy (1997)</td>\n      <td>01-Jan-1997</td>\n      <td>http://us.imdb.com/M/title-exact?Chasing+Amy+(...</td>\n      <td>0</td>\n      <td>0</td>\n      <td>0</td>\n      <td>0</td>\n      <td>0</td>\n      <td>0</td>\n      <td>...</td>\n      <td>0</td>\n      <td>0</td>\n      <td>0</td>\n      <td>0</td>\n      <td>0</td>\n      <td>1</td>\n      <td>0</td>\n      <td>0</td>\n      <td>0</td>\n      <td>0</td>\n    </tr>\n    <tr>\n      <th>267</th>\n      <td>268</td>\n      <td>Chasing Amy (1997)</td>\n      <td>01-Jan-1997</td>\n      <td>http://us.imdb.com/M/title-exact?Chasing+Amy+(...</td>\n      <td>0</td>\n      <td>0</td>\n      <td>0</td>\n      <td>0</td>\n      <td>0</td>\n      <td>0</td>\n      <td>...</td>\n      <td>0</td>\n      <td>0</td>\n      <td>0</td>\n      <td>0</td>\n      <td>0</td>\n      <td>1</td>\n      <td>0</td>\n      <td>0</td>\n      <td>0</td>\n      <td>0</td>\n    </tr>\n  </tbody>\n</table>\n<p>2 rows × 23 columns</p>\n</div>"
     },
     "execution_count": 23,
     "metadata": {},
     "output_type": "execute_result"
    }
   ],
   "source": [
    "movies[movies[\"Title\"] == \"Chasing Amy (1997)\"]"
   ],
   "metadata": {
    "collapsed": false,
    "ExecuteTime": {
     "end_time": "2023-12-03T13:38:18.793739500Z",
     "start_time": "2023-12-03T13:38:17.861207700Z"
    }
   },
   "id": "8960501217d02d5b"
  },
  {
   "cell_type": "markdown",
   "source": [
    "These two rows are the same.\n",
    "So I guess we don't need that, so we can remove all duplicates changing ids in the main dataset."
   ],
   "metadata": {
    "collapsed": false
   },
   "id": "87bd31a6f113d702"
  },
  {
   "cell_type": "code",
   "execution_count": 24,
   "outputs": [],
   "source": [
    "def remove_movie_duplicates(__main_df: pd.DataFrame, __movies_df: pd.DataFrame):\n",
    "    \"\"\"\n",
    "    Removes duplicates of movies in the `movies` and main datasets.\n",
    "    The datasets are changed in place.\n",
    "\n",
    "    Parameters:\n",
    "        __main_df: Main dataset - dataset of ratings of every movie by every user.\n",
    "        __movies_df: Dataset of movies - their ids, titles, links, etc.\n",
    "    \"\"\"\n",
    "    for _title in __movies_df[__movies_df[\"Title\"].duplicated()][\"Title\"].to_list():\n",
    "        _main_id, _duplicated_id = __movies_df[__movies_df[\"Title\"] == _title][\"Id\"].to_list()\n",
    "        __main_df.drop(__main_df[__main_df[\"ItemId\"] == _duplicated_id].index, inplace=True)\n",
    "    __movies_df.drop_duplicates(subset=[\"Title\"], inplace=True)"
   ],
   "metadata": {
    "collapsed": false,
    "ExecuteTime": {
     "end_time": "2023-12-03T13:38:18.794737300Z",
     "start_time": "2023-12-03T13:38:17.893150500Z"
    }
   },
   "id": "e2c4a6e6216eeaff"
  },
  {
   "cell_type": "code",
   "execution_count": 25,
   "outputs": [],
   "source": [
    "remove_movie_duplicates(main_dataset, movies)"
   ],
   "metadata": {
    "collapsed": false,
    "ExecuteTime": {
     "end_time": "2023-12-03T13:38:18.799723700Z",
     "start_time": "2023-12-03T13:38:17.908207600Z"
    }
   },
   "id": "175928f478128e98"
  },
  {
   "cell_type": "code",
   "execution_count": 26,
   "outputs": [
    {
     "data": {
      "text/plain": "Empty DataFrame\nColumns: [Id, Title, ReleaseDate, IMDB_URL, unknown, Action, Adventure, Animation, Children's, Comedy, Crime, Documentary, Drama, Fantasy, Film-Noir, Horror, Musical, Mystery, Romance, Sci-Fi, Thriller, War, Western]\nIndex: []\n\n[0 rows x 23 columns]",
      "text/html": "<div>\n<style scoped>\n    .dataframe tbody tr th:only-of-type {\n        vertical-align: middle;\n    }\n\n    .dataframe tbody tr th {\n        vertical-align: top;\n    }\n\n    .dataframe thead th {\n        text-align: right;\n    }\n</style>\n<table border=\"1\" class=\"dataframe\">\n  <thead>\n    <tr style=\"text-align: right;\">\n      <th></th>\n      <th>Id</th>\n      <th>Title</th>\n      <th>ReleaseDate</th>\n      <th>IMDB_URL</th>\n      <th>unknown</th>\n      <th>Action</th>\n      <th>Adventure</th>\n      <th>Animation</th>\n      <th>Children's</th>\n      <th>Comedy</th>\n      <th>...</th>\n      <th>Fantasy</th>\n      <th>Film-Noir</th>\n      <th>Horror</th>\n      <th>Musical</th>\n      <th>Mystery</th>\n      <th>Romance</th>\n      <th>Sci-Fi</th>\n      <th>Thriller</th>\n      <th>War</th>\n      <th>Western</th>\n    </tr>\n  </thead>\n  <tbody>\n  </tbody>\n</table>\n<p>0 rows × 23 columns</p>\n</div>"
     },
     "execution_count": 26,
     "metadata": {},
     "output_type": "execute_result"
    }
   ],
   "source": [
    "movies[movies[\"Title\"].duplicated()]"
   ],
   "metadata": {
    "collapsed": false,
    "ExecuteTime": {
     "end_time": "2023-12-03T13:38:18.801719400Z",
     "start_time": "2023-12-03T13:38:18.100777300Z"
    }
   },
   "id": "df67cb90b880a53e"
  },
  {
   "cell_type": "code",
   "execution_count": 27,
   "outputs": [
    {
     "data": {
      "text/plain": "Empty DataFrame\nColumns: [UserId, ItemId, Rating]\nIndex: []",
      "text/html": "<div>\n<style scoped>\n    .dataframe tbody tr th:only-of-type {\n        vertical-align: middle;\n    }\n\n    .dataframe tbody tr th {\n        vertical-align: top;\n    }\n\n    .dataframe thead th {\n        text-align: right;\n    }\n</style>\n<table border=\"1\" class=\"dataframe\">\n  <thead>\n    <tr style=\"text-align: right;\">\n      <th></th>\n      <th>UserId</th>\n      <th>ItemId</th>\n      <th>Rating</th>\n    </tr>\n  </thead>\n  <tbody>\n  </tbody>\n</table>\n</div>"
     },
     "execution_count": 27,
     "metadata": {},
     "output_type": "execute_result"
    }
   ],
   "source": [
    "main_dataset[main_dataset.duplicated()]"
   ],
   "metadata": {
    "collapsed": false,
    "ExecuteTime": {
     "end_time": "2023-12-03T13:38:18.803713400Z",
     "start_time": "2023-12-03T13:38:18.116873300Z"
    }
   },
   "id": "9d15abcb7f65ba6e"
  },
  {
   "cell_type": "code",
   "execution_count": 28,
   "outputs": [
    {
     "data": {
      "text/plain": "Empty DataFrame\nColumns: [UserId, ItemId, Rating]\nIndex: []",
      "text/html": "<div>\n<style scoped>\n    .dataframe tbody tr th:only-of-type {\n        vertical-align: middle;\n    }\n\n    .dataframe tbody tr th {\n        vertical-align: top;\n    }\n\n    .dataframe thead th {\n        text-align: right;\n    }\n</style>\n<table border=\"1\" class=\"dataframe\">\n  <thead>\n    <tr style=\"text-align: right;\">\n      <th></th>\n      <th>UserId</th>\n      <th>ItemId</th>\n      <th>Rating</th>\n    </tr>\n  </thead>\n  <tbody>\n  </tbody>\n</table>\n</div>"
     },
     "execution_count": 28,
     "metadata": {},
     "output_type": "execute_result"
    }
   ],
   "source": [
    "main_dataset[main_dataset[\"ItemId\"] == 268]"
   ],
   "metadata": {
    "collapsed": false,
    "ExecuteTime": {
     "end_time": "2023-12-03T13:38:18.807703400Z",
     "start_time": "2023-12-03T13:38:18.147890100Z"
    }
   },
   "id": "df1250520c78693"
  },
  {
   "cell_type": "code",
   "execution_count": 29,
   "outputs": [
    {
     "data": {
      "text/plain": "       UserId  ItemId  Rating\n30         50     246       3\n493       269     246       5\n1347       99     246       3\n2122      276     246       4\n2986       79     246       5\n...       ...     ...     ...\n90510     778     246       2\n93806     928     246       5\n94305     486     246       3\n97315     243     246       4\n97797     399     246       3\n\n[124 rows x 3 columns]",
      "text/html": "<div>\n<style scoped>\n    .dataframe tbody tr th:only-of-type {\n        vertical-align: middle;\n    }\n\n    .dataframe tbody tr th {\n        vertical-align: top;\n    }\n\n    .dataframe thead th {\n        text-align: right;\n    }\n</style>\n<table border=\"1\" class=\"dataframe\">\n  <thead>\n    <tr style=\"text-align: right;\">\n      <th></th>\n      <th>UserId</th>\n      <th>ItemId</th>\n      <th>Rating</th>\n    </tr>\n  </thead>\n  <tbody>\n    <tr>\n      <th>30</th>\n      <td>50</td>\n      <td>246</td>\n      <td>3</td>\n    </tr>\n    <tr>\n      <th>493</th>\n      <td>269</td>\n      <td>246</td>\n      <td>5</td>\n    </tr>\n    <tr>\n      <th>1347</th>\n      <td>99</td>\n      <td>246</td>\n      <td>3</td>\n    </tr>\n    <tr>\n      <th>2122</th>\n      <td>276</td>\n      <td>246</td>\n      <td>4</td>\n    </tr>\n    <tr>\n      <th>2986</th>\n      <td>79</td>\n      <td>246</td>\n      <td>5</td>\n    </tr>\n    <tr>\n      <th>...</th>\n      <td>...</td>\n      <td>...</td>\n      <td>...</td>\n    </tr>\n    <tr>\n      <th>90510</th>\n      <td>778</td>\n      <td>246</td>\n      <td>2</td>\n    </tr>\n    <tr>\n      <th>93806</th>\n      <td>928</td>\n      <td>246</td>\n      <td>5</td>\n    </tr>\n    <tr>\n      <th>94305</th>\n      <td>486</td>\n      <td>246</td>\n      <td>3</td>\n    </tr>\n    <tr>\n      <th>97315</th>\n      <td>243</td>\n      <td>246</td>\n      <td>4</td>\n    </tr>\n    <tr>\n      <th>97797</th>\n      <td>399</td>\n      <td>246</td>\n      <td>3</td>\n    </tr>\n  </tbody>\n</table>\n<p>124 rows × 3 columns</p>\n</div>"
     },
     "execution_count": 29,
     "metadata": {},
     "output_type": "execute_result"
    }
   ],
   "source": [
    "main_dataset[main_dataset[\"ItemId\"] == 246]"
   ],
   "metadata": {
    "collapsed": false,
    "ExecuteTime": {
     "end_time": "2023-12-03T13:38:18.810694900Z",
     "start_time": "2023-12-03T13:38:18.157867400Z"
    }
   },
   "id": "4a93f1e14eeed744"
  },
  {
   "cell_type": "code",
   "execution_count": 30,
   "outputs": [
    {
     "data": {
      "text/plain": "UserId     943\nItemId    1663\nRating       5\ndtype: int64"
     },
     "execution_count": 30,
     "metadata": {},
     "output_type": "execute_result"
    }
   ],
   "source": [
    "main_dataset.nunique()"
   ],
   "metadata": {
    "collapsed": false,
    "ExecuteTime": {
     "end_time": "2023-12-03T13:38:18.813686300Z",
     "start_time": "2023-12-03T13:38:18.175062700Z"
    }
   },
   "id": "6b7cfdf020da05fc"
  },
  {
   "cell_type": "markdown",
   "source": [
    "Good. Now we can move to the users' dataset"
   ],
   "metadata": {
    "collapsed": false
   },
   "id": "9bfd9493e590eb73"
  },
  {
   "cell_type": "code",
   "execution_count": 31,
   "outputs": [
    {
     "data": {
      "text/plain": "   Id  Age Gender  Occupation ZipCode\n0   1   24      M  technician   85711\n1   2   53      F       other   94043\n2   3   23      M      writer   32067\n3   4   24      M  technician   43537\n4   5   33      F       other   15213",
      "text/html": "<div>\n<style scoped>\n    .dataframe tbody tr th:only-of-type {\n        vertical-align: middle;\n    }\n\n    .dataframe tbody tr th {\n        vertical-align: top;\n    }\n\n    .dataframe thead th {\n        text-align: right;\n    }\n</style>\n<table border=\"1\" class=\"dataframe\">\n  <thead>\n    <tr style=\"text-align: right;\">\n      <th></th>\n      <th>Id</th>\n      <th>Age</th>\n      <th>Gender</th>\n      <th>Occupation</th>\n      <th>ZipCode</th>\n    </tr>\n  </thead>\n  <tbody>\n    <tr>\n      <th>0</th>\n      <td>1</td>\n      <td>24</td>\n      <td>M</td>\n      <td>technician</td>\n      <td>85711</td>\n    </tr>\n    <tr>\n      <th>1</th>\n      <td>2</td>\n      <td>53</td>\n      <td>F</td>\n      <td>other</td>\n      <td>94043</td>\n    </tr>\n    <tr>\n      <th>2</th>\n      <td>3</td>\n      <td>23</td>\n      <td>M</td>\n      <td>writer</td>\n      <td>32067</td>\n    </tr>\n    <tr>\n      <th>3</th>\n      <td>4</td>\n      <td>24</td>\n      <td>M</td>\n      <td>technician</td>\n      <td>43537</td>\n    </tr>\n    <tr>\n      <th>4</th>\n      <td>5</td>\n      <td>33</td>\n      <td>F</td>\n      <td>other</td>\n      <td>15213</td>\n    </tr>\n  </tbody>\n</table>\n</div>"
     },
     "execution_count": 31,
     "metadata": {},
     "output_type": "execute_result"
    }
   ],
   "source": [
    "users = read_data(\"u.user\", [\"Id\", \"Age\", \"Gender\", \"Occupation\", \"ZipCode\"], sep=\"|\")\n",
    "users.head()"
   ],
   "metadata": {
    "collapsed": false,
    "ExecuteTime": {
     "end_time": "2023-12-03T13:38:18.815680800Z",
     "start_time": "2023-12-03T13:38:18.190534Z"
    }
   },
   "id": "8a0efde3b3b622bd"
  },
  {
   "cell_type": "code",
   "execution_count": 32,
   "outputs": [
    {
     "data": {
      "text/plain": "Id            0\nAge           0\nGender        0\nOccupation    0\nZipCode       0\ndtype: int64"
     },
     "execution_count": 32,
     "metadata": {},
     "output_type": "execute_result"
    }
   ],
   "source": [
    "users.isna().sum()"
   ],
   "metadata": {
    "collapsed": false,
    "ExecuteTime": {
     "end_time": "2023-12-03T13:38:18.817675600Z",
     "start_time": "2023-12-03T13:38:18.214505700Z"
    }
   },
   "id": "54e841db23e7367"
  },
  {
   "cell_type": "code",
   "execution_count": 33,
   "outputs": [
    {
     "data": {
      "text/plain": "Id            943\nAge            61\nGender          2\nOccupation     21\nZipCode       795\ndtype: int64"
     },
     "execution_count": 33,
     "metadata": {},
     "output_type": "execute_result"
    }
   ],
   "source": [
    "users.nunique()"
   ],
   "metadata": {
    "collapsed": false,
    "ExecuteTime": {
     "end_time": "2023-12-03T13:38:18.821664200Z",
     "start_time": "2023-12-03T13:38:18.223844Z"
    }
   },
   "id": "2206bbd9a162736"
  },
  {
   "cell_type": "code",
   "execution_count": 34,
   "outputs": [
    {
     "data": {
      "text/plain": "943"
     },
     "execution_count": 34,
     "metadata": {},
     "output_type": "execute_result"
    }
   ],
   "source": [
    "len(users)"
   ],
   "metadata": {
    "collapsed": false,
    "ExecuteTime": {
     "end_time": "2023-12-03T13:38:18.824657300Z",
     "start_time": "2023-12-03T13:38:18.243572600Z"
    }
   },
   "id": "21301735c4b4fe78"
  },
  {
   "cell_type": "markdown",
   "source": [
    "There are some many distinct zip codes of users.\n",
    "I got an idea that it's possible to convert zip codes to the name of the cities, for example.\n",
    "But I'm not sure if it'd be nice, because as far as I understand, it does not matter where live to suggest a movie to you.\n",
    "This is why I made a conclusion deletion of this column is the best choice here."
   ],
   "metadata": {
    "collapsed": false
   },
   "id": "f113ea7b6a4ef08d"
  },
  {
   "cell_type": "code",
   "execution_count": 35,
   "outputs": [],
   "source": [
    "users.drop(\"ZipCode\", axis=1, inplace=True)"
   ],
   "metadata": {
    "collapsed": false,
    "ExecuteTime": {
     "end_time": "2023-12-03T13:38:18.825654400Z",
     "start_time": "2023-12-03T13:38:18.256801500Z"
    }
   },
   "id": "190e4d7a5ef5d1e3"
  },
  {
   "cell_type": "code",
   "execution_count": 36,
   "outputs": [
    {
     "data": {
      "text/plain": "0"
     },
     "execution_count": 36,
     "metadata": {},
     "output_type": "execute_result"
    }
   ],
   "source": [
    "users.duplicated().sum()"
   ],
   "metadata": {
    "collapsed": false,
    "ExecuteTime": {
     "end_time": "2023-12-03T13:38:18.826651Z",
     "start_time": "2023-12-03T13:38:18.269766200Z"
    }
   },
   "id": "cf8201738b14b459"
  },
  {
   "cell_type": "markdown",
   "source": [
    "Let's check if all movies are rated at least once:"
   ],
   "metadata": {
    "collapsed": false
   },
   "id": "b9ab0732667d6fc2"
  },
  {
   "cell_type": "code",
   "execution_count": 37,
   "outputs": [
    {
     "data": {
      "text/plain": "1663"
     },
     "execution_count": 37,
     "metadata": {},
     "output_type": "execute_result"
    }
   ],
   "source": [
    "main_dataset[\"ItemId\"].nunique()"
   ],
   "metadata": {
    "collapsed": false,
    "ExecuteTime": {
     "end_time": "2023-12-03T13:38:18.829643400Z",
     "start_time": "2023-12-03T13:38:18.310667500Z"
    }
   },
   "id": "16f2b6ae2814b673"
  },
  {
   "cell_type": "markdown",
   "source": [
    "Wow, 5 movies are never rated. Let's check remove them."
   ],
   "metadata": {
    "collapsed": false
   },
   "id": "bd071e44fcaaf14c"
  },
  {
   "cell_type": "code",
   "execution_count": 46,
   "outputs": [],
   "source": [
    "ids = set([i for i in range(1, 1668)])\n",
    "not_rated_ids = ids.difference(main_dataset[\"ItemId\"].values)\n",
    "movies.drop(movies[\"Id\"].isin(not_rated_ids).index, inplace=True)"
   ],
   "metadata": {
    "collapsed": false,
    "ExecuteTime": {
     "end_time": "2023-12-03T13:40:58.258964600Z",
     "start_time": "2023-12-03T13:40:58.219070500Z"
    }
   },
   "id": "d4fb8c6ff8fb04e5"
  },
  {
   "cell_type": "markdown",
   "source": [
    "So the last thing I want to do is to prepare the data for the RecSys model.\n",
    "I'll merge all datasets into one."
   ],
   "metadata": {
    "collapsed": false
   },
   "id": "fe36d86d5d541fd1"
  },
  {
   "cell_type": "code",
   "execution_count": 48,
   "outputs": [],
   "source": [
    "movies.rename(columns={\"Id\": \"ItemId\"}, inplace=True)\n",
    "users.rename(columns={\"Id\": \"UserId\"}, inplace=True)"
   ],
   "metadata": {
    "collapsed": false,
    "ExecuteTime": {
     "end_time": "2023-12-03T13:41:22.258032300Z",
     "start_time": "2023-12-03T13:41:22.209050700Z"
    }
   },
   "id": "b6a87da5d1beed36"
  },
  {
   "cell_type": "code",
   "execution_count": 49,
   "outputs": [],
   "source": [
    "df = pd.merge(main_dataset, users, on=\"UserId\", how=\"left\")\n",
    "df = pd.merge(df, movies, on=\"ItemId\", how=\"left\")"
   ],
   "metadata": {
    "collapsed": false,
    "ExecuteTime": {
     "end_time": "2023-12-03T13:41:23.155147100Z",
     "start_time": "2023-12-03T13:41:23.067658400Z"
    }
   },
   "id": "64f77859bfdfc52a"
  },
  {
   "cell_type": "code",
   "execution_count": 50,
   "outputs": [
    {
     "data": {
      "text/plain": "   UserId  ItemId  Rating  Age Gender  Occupation Title ReleaseDate IMDB_URL  \\\n0     196     242       3   49      M      writer   NaN         NaN      NaN   \n1     186     302       3   39      F   executive   NaN         NaN      NaN   \n2      22     377       1   25      M      writer   NaN         NaN      NaN   \n3     244      51       2   28      M  technician   NaN         NaN      NaN   \n4     166     346       1   47      M    educator   NaN         NaN      NaN   \n\n   unknown  ...  Fantasy  Film-Noir  Horror  Musical  Mystery  Romance  \\\n0      NaN  ...      NaN        NaN     NaN      NaN      NaN      NaN   \n1      NaN  ...      NaN        NaN     NaN      NaN      NaN      NaN   \n2      NaN  ...      NaN        NaN     NaN      NaN      NaN      NaN   \n3      NaN  ...      NaN        NaN     NaN      NaN      NaN      NaN   \n4      NaN  ...      NaN        NaN     NaN      NaN      NaN      NaN   \n\n   Sci-Fi  Thriller  War  Western  \n0     NaN       NaN  NaN      NaN  \n1     NaN       NaN  NaN      NaN  \n2     NaN       NaN  NaN      NaN  \n3     NaN       NaN  NaN      NaN  \n4     NaN       NaN  NaN      NaN  \n\n[5 rows x 28 columns]",
      "text/html": "<div>\n<style scoped>\n    .dataframe tbody tr th:only-of-type {\n        vertical-align: middle;\n    }\n\n    .dataframe tbody tr th {\n        vertical-align: top;\n    }\n\n    .dataframe thead th {\n        text-align: right;\n    }\n</style>\n<table border=\"1\" class=\"dataframe\">\n  <thead>\n    <tr style=\"text-align: right;\">\n      <th></th>\n      <th>UserId</th>\n      <th>ItemId</th>\n      <th>Rating</th>\n      <th>Age</th>\n      <th>Gender</th>\n      <th>Occupation</th>\n      <th>Title</th>\n      <th>ReleaseDate</th>\n      <th>IMDB_URL</th>\n      <th>unknown</th>\n      <th>...</th>\n      <th>Fantasy</th>\n      <th>Film-Noir</th>\n      <th>Horror</th>\n      <th>Musical</th>\n      <th>Mystery</th>\n      <th>Romance</th>\n      <th>Sci-Fi</th>\n      <th>Thriller</th>\n      <th>War</th>\n      <th>Western</th>\n    </tr>\n  </thead>\n  <tbody>\n    <tr>\n      <th>0</th>\n      <td>196</td>\n      <td>242</td>\n      <td>3</td>\n      <td>49</td>\n      <td>M</td>\n      <td>writer</td>\n      <td>NaN</td>\n      <td>NaN</td>\n      <td>NaN</td>\n      <td>NaN</td>\n      <td>...</td>\n      <td>NaN</td>\n      <td>NaN</td>\n      <td>NaN</td>\n      <td>NaN</td>\n      <td>NaN</td>\n      <td>NaN</td>\n      <td>NaN</td>\n      <td>NaN</td>\n      <td>NaN</td>\n      <td>NaN</td>\n    </tr>\n    <tr>\n      <th>1</th>\n      <td>186</td>\n      <td>302</td>\n      <td>3</td>\n      <td>39</td>\n      <td>F</td>\n      <td>executive</td>\n      <td>NaN</td>\n      <td>NaN</td>\n      <td>NaN</td>\n      <td>NaN</td>\n      <td>...</td>\n      <td>NaN</td>\n      <td>NaN</td>\n      <td>NaN</td>\n      <td>NaN</td>\n      <td>NaN</td>\n      <td>NaN</td>\n      <td>NaN</td>\n      <td>NaN</td>\n      <td>NaN</td>\n      <td>NaN</td>\n    </tr>\n    <tr>\n      <th>2</th>\n      <td>22</td>\n      <td>377</td>\n      <td>1</td>\n      <td>25</td>\n      <td>M</td>\n      <td>writer</td>\n      <td>NaN</td>\n      <td>NaN</td>\n      <td>NaN</td>\n      <td>NaN</td>\n      <td>...</td>\n      <td>NaN</td>\n      <td>NaN</td>\n      <td>NaN</td>\n      <td>NaN</td>\n      <td>NaN</td>\n      <td>NaN</td>\n      <td>NaN</td>\n      <td>NaN</td>\n      <td>NaN</td>\n      <td>NaN</td>\n    </tr>\n    <tr>\n      <th>3</th>\n      <td>244</td>\n      <td>51</td>\n      <td>2</td>\n      <td>28</td>\n      <td>M</td>\n      <td>technician</td>\n      <td>NaN</td>\n      <td>NaN</td>\n      <td>NaN</td>\n      <td>NaN</td>\n      <td>...</td>\n      <td>NaN</td>\n      <td>NaN</td>\n      <td>NaN</td>\n      <td>NaN</td>\n      <td>NaN</td>\n      <td>NaN</td>\n      <td>NaN</td>\n      <td>NaN</td>\n      <td>NaN</td>\n      <td>NaN</td>\n    </tr>\n    <tr>\n      <th>4</th>\n      <td>166</td>\n      <td>346</td>\n      <td>1</td>\n      <td>47</td>\n      <td>M</td>\n      <td>educator</td>\n      <td>NaN</td>\n      <td>NaN</td>\n      <td>NaN</td>\n      <td>NaN</td>\n      <td>...</td>\n      <td>NaN</td>\n      <td>NaN</td>\n      <td>NaN</td>\n      <td>NaN</td>\n      <td>NaN</td>\n      <td>NaN</td>\n      <td>NaN</td>\n      <td>NaN</td>\n      <td>NaN</td>\n      <td>NaN</td>\n    </tr>\n  </tbody>\n</table>\n<p>5 rows × 28 columns</p>\n</div>"
     },
     "execution_count": 50,
     "metadata": {},
     "output_type": "execute_result"
    }
   ],
   "source": [
    "df.head()"
   ],
   "metadata": {
    "collapsed": false,
    "ExecuteTime": {
     "end_time": "2023-12-03T13:41:23.612844200Z",
     "start_time": "2023-12-03T13:41:23.545140400Z"
    }
   },
   "id": "bbf9e86b35279327"
  },
  {
   "cell_type": "code",
   "execution_count": 51,
   "outputs": [],
   "source": [
    "df.to_csv(\"../data/interim/ratings.csv\", index=False)"
   ],
   "metadata": {
    "collapsed": false,
    "ExecuteTime": {
     "end_time": "2023-12-03T13:41:25.937830300Z",
     "start_time": "2023-12-03T13:41:24.819807800Z"
    }
   },
   "id": "8ad4f0afe61aa290"
  }
 ],
 "metadata": {
  "kernelspec": {
   "display_name": "Python 3",
   "language": "python",
   "name": "python3"
  },
  "language_info": {
   "codemirror_mode": {
    "name": "ipython",
    "version": 2
   },
   "file_extension": ".py",
   "mimetype": "text/x-python",
   "name": "python",
   "nbconvert_exporter": "python",
   "pygments_lexer": "ipython2",
   "version": "2.7.6"
  }
 },
 "nbformat": 4,
 "nbformat_minor": 5
}
